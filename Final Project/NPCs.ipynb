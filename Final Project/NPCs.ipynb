{
 "cells": [
  {
   "cell_type": "code",
   "execution_count": 175,
   "metadata": {},
   "outputs": [],
   "source": [
    "import random\n",
    "import math\n",
    "\n",
    "encounter_skills = {'Deception':'CHA','Performance':'CHA','Persuasion':'CHA','Insight':'WIS','Manipulate':'INT',\n",
    "                    'Cultural Knowledge':'INT','Animal Handling':'WIS','Intimidate':'STR','Selight of Hand':'DEX'}\n",
    "# Special skills removed.\n",
    "#                     'Barter':'Special','Apologize':'Special','Bluff':'Special'}\n",
    "\n",
    "ability_scores = ('STR','DEX','CON','INT','WIS','CHA')\n",
    "\n",
    "def roll_stats():\n",
    "    all_rolls = []\n",
    "    for ability in ability_scores:\n",
    "        roll1 = random.randint(1,6)\n",
    "        roll2 = random.randint(1,6)\n",
    "        roll3 = random.randint(1,6)\n",
    "        roll4 = random.randint(1,6)\n",
    "        rolls = [roll1,roll2,roll3,roll4]\n",
    "        rolls.remove(min(rolls))\n",
    "        score = sum(rolls)\n",
    "        all_rolls.append(score)\n",
    "    stats = dict(zip(ability_scores,all_rolls))\n",
    "    return stats\n",
    "\n",
    "def random_skills():\n",
    "    all_skills = list(encounter_skills.keys())\n",
    "    trained_skills = random.sample(all_skills,3)\n",
    "    return trained_skills\n",
    "\n",
    "base_stats = roll_stats()\n",
    "base_skills = random_skills()\n",
    "\n",
    "class Player:\n",
    "    def __init__(self, name='Jo',stats=base_stats,proficiency_bonus=2, trained_skills=base_skills):\n",
    "        self.name = name\n",
    "        self.stats = stats\n",
    "        self.trained_skills = trained_skills\n",
    "        self.proficiency_bonus = proficiency_bonus\n",
    "        \n",
    "    def skill_bonus(self,skill):\n",
    "        if encounter_skills[skill] == 'Special':\n",
    "            return 'Special'\n",
    "        stat_bonus = math.ceil(((self.stats[encounter_skills[skill]])-10)/2)\n",
    "        if skill in self.trained_skills:\n",
    "            stat_bonus = stat_bonus+self.proficiency_bonus\n",
    "        return stat_bonus\n",
    "\n",
    "a = Player()"
   ]
  },
  {
   "cell_type": "code",
   "execution_count": 176,
   "metadata": {},
   "outputs": [],
   "source": [
    "names_list = ['Alice','Bob','Eve']\n",
    "character_list = []\n",
    "for name in names_list:\n",
    "    base_stats = roll_stats()\n",
    "    base_skills = random_skills()\n",
    "    character_list.append(Player(name=name,stats=base_stats,proficiency_bonus=2, trained_skills=base_skills))\n",
    "# a.skill_bonus('Insight')"
   ]
  },
  {
   "cell_type": "code",
   "execution_count": 178,
   "metadata": {},
   "outputs": [
    {
     "name": "stdout",
     "output_type": "stream",
     "text": [
      "Alice\n",
      "{'STR': 10, 'DEX': 11, 'CON': 15, 'INT': 13, 'WIS': 16, 'CHA': 17}\n",
      "['Persuasion', 'Performance', 'Deception']\n",
      "6\n",
      "Bob\n",
      "{'STR': 13, 'DEX': 8, 'CON': 16, 'INT': 15, 'WIS': 10, 'CHA': 9}\n",
      "['Persuasion', 'Manipulate', 'Animal Handling']\n",
      "0\n",
      "Eve\n",
      "{'STR': 12, 'DEX': 18, 'CON': 10, 'INT': 15, 'WIS': 15, 'CHA': 9}\n",
      "['Manipulate', 'Performance', 'Persuasion']\n",
      "0\n"
     ]
    }
   ],
   "source": [
    "for character in character_list:\n",
    "    print (character.name)\n",
    "    print (character.stats)\n",
    "    print (character.trained_skills)\n",
    "    print (character.skill_bonus('Deception'))"
   ]
  }
 ],
 "metadata": {
  "kernelspec": {
   "display_name": "Python 3",
   "language": "python",
   "name": "python3"
  },
  "language_info": {
   "codemirror_mode": {
    "name": "ipython",
    "version": 3
   },
   "file_extension": ".py",
   "mimetype": "text/x-python",
   "name": "python",
   "nbconvert_exporter": "python",
   "pygments_lexer": "ipython3",
   "version": "3.6.4"
  }
 },
 "nbformat": 4,
 "nbformat_minor": 2
}
